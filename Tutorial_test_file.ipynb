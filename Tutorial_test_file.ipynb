{
 "cells": [
  {
   "cell_type": "markdown",
   "metadata": {},
   "source": [
    "### Algorithmic Trading Python for Beginners - FULL TUTORIAL\n",
    "\n",
    "Following the youtube video https://www.youtube.com/watch?v=GDMkkmkJigw&t=161s&ab_channel=QuantProgram in order to gain some priary knowledge."
   ]
  },
  {
   "cell_type": "code",
   "execution_count": 31,
   "metadata": {},
   "outputs": [],
   "source": [
    "import yfinance as yf\n",
    "import pandas as pd\n",
    "import numpy as np\n",
    "import matplotlib.pyplot as plt"
   ]
  },
  {
   "cell_type": "code",
   "execution_count": 32,
   "metadata": {},
   "outputs": [
    {
     "name": "stderr",
     "output_type": "stream",
     "text": [
      "[*********************100%***********************]  1 of 1 completed\n"
     ]
    }
   ],
   "source": [
    "# downloading all apple data between 2010 and 2019\n",
    "Apple = yf.download(\"AAPL\", start = '2010-01-01', end = '2024-01-01')"
   ]
  },
  {
   "cell_type": "code",
   "execution_count": 33,
   "metadata": {},
   "outputs": [
    {
     "name": "stderr",
     "output_type": "stream",
     "text": [
      "[*********************100%***********************]  3 of 3 completed\n"
     ]
    }
   ],
   "source": [
    "# Using an array to store different stocks, leading to a \n",
    "# multi-index dataframe with the stock ticker as the first index\n",
    "ticker = [\"SPY\", \"AAPL\", \"KO\"]\n",
    "stocks = yf.download(ticker, start = '2010-01-01', end = '2024-01-01')\n",
    "#print(stocks)\n"
   ]
  },
  {
   "cell_type": "code",
   "execution_count": 34,
   "metadata": {},
   "outputs": [],
   "source": [
    "# head function just displays the top 5 rows of the stocks dataframe\n",
    "# tail function just displays the bottom 5 rows of the stocks dataframe\n",
    "# info function displays the data type of each column, the number of non-null values, and the memory usage of the dataframe\n",
    "#print(stocks.head())\n",
    "#print(stocks.tail())\n",
    "#print(stocks.info())"
   ]
  },
  {
   "cell_type": "code",
   "execution_count": 35,
   "metadata": {},
   "outputs": [],
   "source": [
    "# Next we can save the data to a csv file\n",
    "stocks.to_csv(\"stocks.csv\")"
   ]
  },
  {
   "cell_type": "code",
   "execution_count": 36,
   "metadata": {},
   "outputs": [],
   "source": [
    "# Reading the stocks.csv file\n",
    "# The header parameter is set to [0, 1] to indicate that the first two rows of the csv file are the header\n",
    "# The index_col parameter is set to 0 to indicate that the first column of the csv file is the index\n",
    "stocksRead = pd.read_csv(\"stocks.csv\", header=[0, 1], index_col=0)\n"
   ]
  },
  {
   "cell_type": "code",
   "execution_count": 37,
   "metadata": {},
   "outputs": [
    {
     "name": "stdout",
     "output_type": "stream",
     "text": [
      "Price                     Adj Close                           Close   \n",
      "Ticker                         AAPL         KO        SPY      AAPL   \n",
      "Date                                                                  \n",
      "2010-01-04 00:00:00+00:00  6.454505  18.085943  86.315987  7.643214  \\\n",
      "2010-01-05 00:00:00+00:00  6.465664  17.867161  86.544479  7.656429   \n",
      "2010-01-06 00:00:00+00:00  6.362819  17.860823  86.605400  7.534643   \n",
      "2010-01-07 00:00:00+00:00  6.351056  17.816427  86.971008  7.520714   \n",
      "2010-01-08 00:00:00+00:00  6.393279  17.486670  87.260429  7.570714   \n",
      "\n",
      "Price                                                 High              \n",
      "Ticker                            KO         SPY      AAPL         KO   \n",
      "Date                                                                    \n",
      "2010-01-04 00:00:00+00:00  28.520000  113.330002  7.660714  28.610001  \\\n",
      "2010-01-05 00:00:00+00:00  28.174999  113.629997  7.699643  28.495001   \n",
      "2010-01-06 00:00:00+00:00  28.165001  113.709999  7.686786  28.219999   \n",
      "2010-01-07 00:00:00+00:00  28.094999  114.190002  7.571429  28.184999   \n",
      "2010-01-08 00:00:00+00:00  27.575001  114.570000  7.571429  27.820000   \n",
      "\n",
      "Price                                       Low                          \n",
      "Ticker                            SPY      AAPL         KO         SPY   \n",
      "Date                                                                     \n",
      "2010-01-04 00:00:00+00:00  113.389999  7.585000  28.450001  111.510002  \\\n",
      "2010-01-05 00:00:00+00:00  113.680000  7.616071  28.070000  112.849998   \n",
      "2010-01-06 00:00:00+00:00  113.989998  7.526786  27.990000  113.430000   \n",
      "2010-01-07 00:00:00+00:00  114.330002  7.466071  27.875000  113.180000   \n",
      "2010-01-08 00:00:00+00:00  114.620003  7.466429  27.375000  113.660004   \n",
      "\n",
      "Price                          Open                            Volume   \n",
      "Ticker                         AAPL         KO         SPY       AAPL   \n",
      "Date                                                                    \n",
      "2010-01-04 00:00:00+00:00  7.622500  28.580000  112.370003  493729600  \\\n",
      "2010-01-05 00:00:00+00:00  7.664286  28.424999  113.260002  601904800   \n",
      "2010-01-06 00:00:00+00:00  7.656429  28.174999  113.519997  552160000   \n",
      "2010-01-07 00:00:00+00:00  7.562500  28.165001  113.500000  477131200   \n",
      "2010-01-08 00:00:00+00:00  7.510714  27.730000  113.889999  447610800   \n",
      "\n",
      "Price                                           \n",
      "Ticker                           KO        SPY  \n",
      "Date                                            \n",
      "2010-01-04 00:00:00+00:00  13870400  118944600  \n",
      "2010-01-05 00:00:00+00:00  23172400  111579900  \n",
      "2010-01-06 00:00:00+00:00  19264600  116074400  \n",
      "2010-01-07 00:00:00+00:00  13234600  131091100  \n",
      "2010-01-08 00:00:00+00:00  28712400  126402800  \n"
     ]
    }
   ],
   "source": [
    "print(stocksRead.head())\n",
    "# "
   ]
  },
  {
   "cell_type": "code",
   "execution_count": 38,
   "metadata": {},
   "outputs": [
    {
     "name": "stdout",
     "output_type": "stream",
     "text": [
      "Price                     Adj Close                           Close   \n",
      "Ticker                         AAPL         KO        SPY      AAPL   \n",
      "Date                                                                  \n",
      "2010-01-04 00:00:00+00:00  6.454505  18.085943  86.315987  7.643214  \\\n",
      "2010-01-05 00:00:00+00:00  6.465664  17.867161  86.544479  7.656429   \n",
      "2010-01-06 00:00:00+00:00  6.362819  17.860823  86.605400  7.534643   \n",
      "2010-01-07 00:00:00+00:00  6.351056  17.816427  86.971008  7.520714   \n",
      "2010-01-08 00:00:00+00:00  6.393279  17.486670  87.260429  7.570714   \n",
      "\n",
      "Price                                                 High              \n",
      "Ticker                            KO         SPY      AAPL         KO   \n",
      "Date                                                                    \n",
      "2010-01-04 00:00:00+00:00  28.520000  113.330002  7.660714  28.610001  \\\n",
      "2010-01-05 00:00:00+00:00  28.174999  113.629997  7.699643  28.495001   \n",
      "2010-01-06 00:00:00+00:00  28.165001  113.709999  7.686786  28.219999   \n",
      "2010-01-07 00:00:00+00:00  28.094999  114.190002  7.571429  28.184999   \n",
      "2010-01-08 00:00:00+00:00  27.575001  114.570000  7.571429  27.820000   \n",
      "\n",
      "Price                                       Low                          \n",
      "Ticker                            SPY      AAPL         KO         SPY   \n",
      "Date                                                                     \n",
      "2010-01-04 00:00:00+00:00  113.389999  7.585000  28.450001  111.510002  \\\n",
      "2010-01-05 00:00:00+00:00  113.680000  7.616071  28.070000  112.849998   \n",
      "2010-01-06 00:00:00+00:00  113.989998  7.526786  27.990000  113.430000   \n",
      "2010-01-07 00:00:00+00:00  114.330002  7.466071  27.875000  113.180000   \n",
      "2010-01-08 00:00:00+00:00  114.620003  7.466429  27.375000  113.660004   \n",
      "\n",
      "Price                          Open                            Volume   \n",
      "Ticker                         AAPL         KO         SPY       AAPL   \n",
      "Date                                                                    \n",
      "2010-01-04 00:00:00+00:00  7.622500  28.580000  112.370003  493729600  \\\n",
      "2010-01-05 00:00:00+00:00  7.664286  28.424999  113.260002  601904800   \n",
      "2010-01-06 00:00:00+00:00  7.656429  28.174999  113.519997  552160000   \n",
      "2010-01-07 00:00:00+00:00  7.562500  28.165001  113.500000  477131200   \n",
      "2010-01-08 00:00:00+00:00  7.510714  27.730000  113.889999  447610800   \n",
      "\n",
      "Price                                           \n",
      "Ticker                           KO        SPY  \n",
      "Date                                            \n",
      "2010-01-04 00:00:00+00:00  13870400  118944600  \n",
      "2010-01-05 00:00:00+00:00  23172400  111579900  \n",
      "2010-01-06 00:00:00+00:00  19264600  116074400  \n",
      "2010-01-07 00:00:00+00:00  13234600  131091100  \n",
      "2010-01-08 00:00:00+00:00  28712400  126402800  \n"
     ]
    }
   ],
   "source": [
    "# fixing the date column\n",
    "# The parse_dates parameter is set to [0] to indicate that the first column of the csv file is a date\n",
    "stocksRead = pd.read_csv(\"stocks.csv\", header = [0, 1], index_col = [0], parse_dates = [0])\n",
    "print(stocksRead.head())"
   ]
  },
  {
   "cell_type": "code",
   "execution_count": 39,
   "metadata": {},
   "outputs": [
    {
     "name": "stdout",
     "output_type": "stream",
     "text": [
      "MultiIndex([('Adj Close', 'AAPL'),\n",
      "            ('Adj Close',   'KO'),\n",
      "            ('Adj Close',  'SPY'),\n",
      "            (    'Close', 'AAPL'),\n",
      "            (    'Close',   'KO'),\n",
      "            (    'Close',  'SPY'),\n",
      "            (     'High', 'AAPL'),\n",
      "            (     'High',   'KO'),\n",
      "            (     'High',  'SPY'),\n",
      "            (      'Low', 'AAPL'),\n",
      "            (      'Low',   'KO'),\n",
      "            (      'Low',  'SPY'),\n",
      "            (     'Open', 'AAPL'),\n",
      "            (     'Open',   'KO'),\n",
      "            (     'Open',  'SPY'),\n",
      "            (   'Volume', 'AAPL'),\n",
      "            (   'Volume',   'KO'),\n",
      "            (   'Volume',  'SPY')],\n",
      "           names=['Price', 'Ticker'])\n"
     ]
    }
   ],
   "source": [
    "print(stocks.columns)"
   ]
  },
  {
   "cell_type": "code",
   "execution_count": 41,
   "metadata": {},
   "outputs": [
    {
     "name": "stdout",
     "output_type": "stream",
     "text": [
      "Index([('Adj Close', 'AAPL'),   ('Adj Close', 'KO'),  ('Adj Close', 'SPY'),\n",
      "           ('Close', 'AAPL'),       ('Close', 'KO'),      ('Close', 'SPY'),\n",
      "            ('High', 'AAPL'),        ('High', 'KO'),       ('High', 'SPY'),\n",
      "             ('Low', 'AAPL'),         ('Low', 'KO'),        ('Low', 'SPY'),\n",
      "            ('Open', 'AAPL'),        ('Open', 'KO'),       ('Open', 'SPY'),\n",
      "          ('Volume', 'AAPL'),      ('Volume', 'KO'),     ('Volume', 'SPY')],\n",
      "      dtype='object')\n",
      "<class 'pandas.core.indexes.base.Index'>\n"
     ]
    }
   ],
   "source": [
    "# Converting the multi-index dataframe to a tuple\n",
    "stocks.columns = stocks.columns.to_flat_index()\n",
    "print(stocks.columns)\n",
    "# now is an array of tuples"
   ]
  },
  {
   "cell_type": "code",
   "execution_count": 42,
   "metadata": {},
   "outputs": [
    {
     "name": "stdout",
     "output_type": "stream",
     "text": [
      "                           (Adj Close, AAPL)  (Adj Close, KO)   \n",
      "Date                                                            \n",
      "2010-01-04 00:00:00+00:00           6.454505        18.085943  \\\n",
      "2010-01-05 00:00:00+00:00           6.465664        17.867161   \n",
      "2010-01-06 00:00:00+00:00           6.362819        17.860823   \n",
      "2010-01-07 00:00:00+00:00           6.351056        17.816427   \n",
      "2010-01-08 00:00:00+00:00           6.393279        17.486670   \n",
      "\n",
      "                           (Adj Close, SPY)  (Close, AAPL)  (Close, KO)   \n",
      "Date                                                                      \n",
      "2010-01-04 00:00:00+00:00         86.315987       7.643214    28.520000  \\\n",
      "2010-01-05 00:00:00+00:00         86.544479       7.656429    28.174999   \n",
      "2010-01-06 00:00:00+00:00         86.605400       7.534643    28.165001   \n",
      "2010-01-07 00:00:00+00:00         86.971008       7.520714    28.094999   \n",
      "2010-01-08 00:00:00+00:00         87.260429       7.570714    27.575001   \n",
      "\n",
      "                           (Close, SPY)  (High, AAPL)  (High, KO)   \n",
      "Date                                                                \n",
      "2010-01-04 00:00:00+00:00    113.330002      7.660714   28.610001  \\\n",
      "2010-01-05 00:00:00+00:00    113.629997      7.699643   28.495001   \n",
      "2010-01-06 00:00:00+00:00    113.709999      7.686786   28.219999   \n",
      "2010-01-07 00:00:00+00:00    114.190002      7.571429   28.184999   \n",
      "2010-01-08 00:00:00+00:00    114.570000      7.571429   27.820000   \n",
      "\n",
      "                           (High, SPY)  (Low, AAPL)  (Low, KO)  (Low, SPY)   \n",
      "Date                                                                         \n",
      "2010-01-04 00:00:00+00:00   113.389999     7.585000  28.450001  111.510002  \\\n",
      "2010-01-05 00:00:00+00:00   113.680000     7.616071  28.070000  112.849998   \n",
      "2010-01-06 00:00:00+00:00   113.989998     7.526786  27.990000  113.430000   \n",
      "2010-01-07 00:00:00+00:00   114.330002     7.466071  27.875000  113.180000   \n",
      "2010-01-08 00:00:00+00:00   114.620003     7.466429  27.375000  113.660004   \n",
      "\n",
      "                           (Open, AAPL)  (Open, KO)  (Open, SPY)   \n",
      "Date                                                               \n",
      "2010-01-04 00:00:00+00:00      7.622500   28.580000   112.370003  \\\n",
      "2010-01-05 00:00:00+00:00      7.664286   28.424999   113.260002   \n",
      "2010-01-06 00:00:00+00:00      7.656429   28.174999   113.519997   \n",
      "2010-01-07 00:00:00+00:00      7.562500   28.165001   113.500000   \n",
      "2010-01-08 00:00:00+00:00      7.510714   27.730000   113.889999   \n",
      "\n",
      "                           (Volume, AAPL)  (Volume, KO)  (Volume, SPY)  \n",
      "Date                                                                    \n",
      "2010-01-04 00:00:00+00:00       493729600      13870400      118944600  \n",
      "2010-01-05 00:00:00+00:00       601904800      23172400      111579900  \n",
      "2010-01-06 00:00:00+00:00       552160000      19264600      116074400  \n",
      "2010-01-07 00:00:00+00:00       477131200      13234600      131091100  \n",
      "2010-01-08 00:00:00+00:00       447610800      28712400      126402800  \n"
     ]
    }
   ],
   "source": [
    "print(stocks.head())\n",
    "stocks.columns = pd.MultiIndex.from_tuples(stocks.columns)"
   ]
  }
 ],
 "metadata": {
  "kernelspec": {
   "display_name": "Python 3",
   "language": "python",
   "name": "python3"
  },
  "language_info": {
   "codemirror_mode": {
    "name": "ipython",
    "version": 3
   },
   "file_extension": ".py",
   "mimetype": "text/x-python",
   "name": "python",
   "nbconvert_exporter": "python",
   "pygments_lexer": "ipython3",
   "version": "3.11.9"
  }
 },
 "nbformat": 4,
 "nbformat_minor": 2
}
